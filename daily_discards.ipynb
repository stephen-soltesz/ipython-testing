{
 "cells": [
  {
   "cell_type": "code",
   "execution_count": 4,
   "metadata": {},
   "outputs": [
    {
     "name": "stdout",
     "output_type": "stream",
     "text": [
      "Using matplotlib backend: MacOSX\n"
     ]
    }
   ],
   "source": [
    "%matplotlib\n"
   ]
  },
  {
   "cell_type": "code",
   "execution_count": 15,
   "metadata": {},
   "outputs": [],
   "source": [
    "import os\n",
    "import pandas as pd\n",
    "import numpy as np\n",
    "import matplotlib.dates as dates\n",
    "import matplotlib.pyplot as plt"
   ]
  },
  {
   "cell_type": "code",
   "execution_count": 6,
   "metadata": {},
   "outputs": [
    {
     "name": "stdout",
     "output_type": "stream",
     "text": [
      "/Users/soltesz/src/github.com/stephen-soltesz/ipython-testing\n"
     ]
    }
   ],
   "source": [
    "print os.getcwd()\n",
    "os.chdir(\"/Users/soltesz/src/github.com/stephen-soltesz/ipython-testing\")"
   ]
  },
  {
   "cell_type": "code",
   "execution_count": 11,
   "metadata": {},
   "outputs": [],
   "source": [
    "# generate data with:\n",
    "# cat daily_discards.sql | bq query --format=csv --max_rows=1000000 --nouse_legacy_sql > out.csv\n",
    "df = pd.read_csv('daily_discards.csv')"
   ]
  },
  {
   "cell_type": "code",
   "execution_count": 12,
   "metadata": {},
   "outputs": [
    {
     "data": {
      "text/plain": [
       "86688"
      ]
     },
     "execution_count": 12,
     "metadata": {},
     "output_type": "execute_result"
    }
   ],
   "source": [
    "len(df)"
   ]
  },
  {
   "cell_type": "code",
   "execution_count": 13,
   "metadata": {},
   "outputs": [
    {
     "name": "stdout",
     "output_type": "stream",
     "text": [
      "Using matplotlib backend: MacOSX\n"
     ]
    }
   ],
   "source": [
    "%matplotlib auto"
   ]
  },
  {
   "cell_type": "code",
   "execution_count": null,
   "metadata": {},
   "outputs": [],
   "source": []
  },
  {
   "cell_type": "code",
   "execution_count": 16,
   "metadata": {},
   "outputs": [],
   "source": [
    "sites = [\n",
    "    ['dfw', 'lga', 'iad'],\n",
    "    ['sea', 'atl', 'den'],\n",
    "    ['mia', 'nuq', 'ord'],\n",
    "]\n",
    "\n",
    "fig, axes = plt.subplots(nrows=3, ncols=3)\n",
    "for i, site_row in enumerate(sites):\n",
    "    for j, site in enumerate(site_row):\n",
    "        axes[i, j].set_title(site)\n",
    "        if j != 0:\n",
    "            axes[i, j].set_yticklabels([])\n",
    "        if i != len(sites)-1:\n",
    "            axes[i, j].set_xticklabels([])\n",
    "        for h in set(df['hostname']):\n",
    "            if 'mlab1.' + site in h:\n",
    "                axes[i, j].plot_date(dates.epoch2num(df['ts'][ df['hostname'] == h]), df['total_discards'][ df['hostname'] == h], ls='-', ms=0, label=h[:11])\n",
    "        axes[i, j].set_ylim(1, 1000000)\n",
    "        axes[i, j].tick_params(axis='x', labelrotation=90)\n",
    "        axes[i, j].grid(color='#dddddd')\n",
    "        axes[i, j].legend(loc=4, fontsize='x-small')\n",
    "        axes[i, j].semilogy()\n",
    "        \n",
    "fig.subplots_adjust(hspace=0.3, wspace=0.4)\n",
    "\n"
   ]
  },
  {
   "cell_type": "code",
   "execution_count": 17,
   "metadata": {},
   "outputs": [
    {
     "data": {
      "text/plain": [
       "86688"
      ]
     },
     "execution_count": 17,
     "metadata": {},
     "output_type": "execute_result"
    }
   ],
   "source": [
    "len(df['hostname'])"
   ]
  },
  {
   "cell_type": "code",
   "execution_count": null,
   "metadata": {},
   "outputs": [],
   "source": []
  },
  {
   "cell_type": "code",
   "execution_count": 18,
   "metadata": {},
   "outputs": [],
   "source": [
    "#    plt.plot(df['total_discards'][ df['hostname'] == h])"
   ]
  },
  {
   "cell_type": "code",
   "execution_count": 19,
   "metadata": {},
   "outputs": [],
   "source": [
    "df = pd.read_csv('sidestream-trial-6w.csv')"
   ]
  },
  {
   "cell_type": "code",
   "execution_count": 22,
   "metadata": {},
   "outputs": [
    {
     "name": "stdout",
     "output_type": "stream",
     "text": [
      "262916 901.275707813\n",
      "[0.03767123 0.05950342 0.07719749 ... 0.99985731 0.99985731 1.        ] 7009\n"
     ]
    }
   ],
   "source": [
    "print len(df), max(df['rate_mbps'])\n",
    "\n",
    "hosts = [\n",
    "    ['mlab1.lga03', 'mlab1.lga04'],\n",
    "    ['mlab1.dfw02', 'mlab1.dfw03'],\n",
    "]\n",
    "\n",
    "fig, axes = plt.subplots(nrows=2, ncols=2)\n",
    "\n",
    "for i, host_row in enumerate(hosts):\n",
    "    for j, host in enumerate(host_row):\n",
    "        for period in ['0w', '1w', '2w']: # , '3w', '4w', '5w']:\n",
    "            ds = df[ (df['period'] == period) & (df['hostname'] == host) ]\n",
    "            n, bins, patches = axes[i, j].hist(ds['rate_mbps'], len(ds['rate_mbps']),\n",
    "                               histtype='step', normed=1, cumulative=True, label='cdf-' + period,\n",
    "                               ls='-')\n",
    "        # axes[i].set_aspect('equal')\n",
    "        axes[i, j].set_axisbelow(True)\n",
    "        axes[i, j].semilogx()\n",
    "        axes[i, j].legend(loc=2)\n",
    "        axes[i, j].grid(color='#dddddd')\n",
    "        axes[i, j].set_title(host)\n",
    "    \n",
    "plt.show()\n",
    "print n, len(bins)"
   ]
  },
  {
   "cell_type": "code",
   "execution_count": null,
   "metadata": {},
   "outputs": [],
   "source": []
  },
  {
   "cell_type": "code",
   "execution_count": 137,
   "metadata": {},
   "outputs": [],
   "source": []
  },
  {
   "cell_type": "code",
   "execution_count": 23,
   "metadata": {},
   "outputs": [],
   "source": [
    "df = pd.read_csv('/Users/soltesz/Downloads/switch-dfw02-pct.csv')\n",
    "plt.plot_date(dates.epoch2num(df['ts']), df['total_discards'], ls='-', ms=0)\n",
    "plt.tick_params(axis='x', labelrotation=90)\n",
    "plt.show()"
   ]
  },
  {
   "cell_type": "code",
   "execution_count": null,
   "metadata": {},
   "outputs": [],
   "source": []
  },
  {
   "cell_type": "code",
   "execution_count": null,
   "metadata": {},
   "outputs": [],
   "source": []
  }
 ],
 "metadata": {
  "kernelspec": {
   "display_name": "Python 2",
   "language": "python",
   "name": "python2"
  },
  "language_info": {
   "codemirror_mode": {
    "name": "ipython",
    "version": 2
   },
   "file_extension": ".py",
   "mimetype": "text/x-python",
   "name": "python",
   "nbconvert_exporter": "python",
   "pygments_lexer": "ipython2",
   "version": "2.7.14"
  }
 },
 "nbformat": 4,
 "nbformat_minor": 2
}
