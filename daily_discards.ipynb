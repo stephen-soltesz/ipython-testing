{
 "cells": [
  {
   "cell_type": "code",
   "execution_count": 1,
   "metadata": {
    "collapsed": false
   },
   "outputs": [
    {
     "name": "stdout",
     "output_type": "stream",
     "text": [
      "Using matplotlib backend: TkAgg\n"
     ]
    }
   ],
   "source": [
    "%matplotlib\n"
   ]
  },
  {
   "cell_type": "code",
   "execution_count": 2,
   "metadata": {
    "collapsed": true
   },
   "outputs": [],
   "source": [
    "import os\n",
    "import pandas as pd\n",
    "import numpy as np\n",
    "import matplotlib.dates as dates\n",
    "import matplotlib.pyplot as plt"
   ]
  },
  {
   "cell_type": "code",
   "execution_count": 5,
   "metadata": {
    "collapsed": false
   },
   "outputs": [
    {
     "name": "stdout",
     "output_type": "stream",
     "text": [
      "/usr/local/google/home/soltesz/src/github.com/stephen-soltesz/ipython-testing\n"
     ]
    }
   ],
   "source": [
    "print os.getcwd()"
   ]
  },
  {
   "cell_type": "code",
   "execution_count": 6,
   "metadata": {
    "collapsed": true
   },
   "outputs": [],
   "source": [
    "# generate data with:\n",
    "# cat daily_discards.sql | bq query --format=csv --max_rows=1000000 --nouse_legacy_sql > daily_discards.csv\n",
    "df = pd.read_csv('daily_discards.csv')"
   ]
  },
  {
   "cell_type": "code",
   "execution_count": 7,
   "metadata": {
    "collapsed": false
   },
   "outputs": [
    {
     "data": {
      "text/plain": [
       "86688"
      ]
     },
     "execution_count": 7,
     "metadata": {},
     "output_type": "execute_result"
    }
   ],
   "source": [
    "len(df)"
   ]
  },
  {
   "cell_type": "code",
   "execution_count": 8,
   "metadata": {
    "collapsed": false
   },
   "outputs": [
    {
     "data": {
      "text/plain": [
       "Text(0.5,0.98,'Discards over time')"
      ]
     },
     "execution_count": 8,
     "metadata": {},
     "output_type": "execute_result"
    }
   ],
   "source": [
    "sites = [\n",
    "    ['dfw', 'lga', 'iad'],\n",
    "    ['sea', 'atl', 'den'],\n",
    "    ['mia', 'nuq', 'ord'],\n",
    "]\n",
    "\n",
    "fig, axes = plt.subplots(nrows=3, ncols=3)\n",
    "for i, site_row in enumerate(sites):\n",
    "    for j, site in enumerate(site_row):\n",
    "        axes[i, j].set_title(site)\n",
    "        if j != 0:\n",
    "            axes[i, j].set_yticklabels([])\n",
    "        if i != len(sites)-1:\n",
    "            axes[i, j].set_xticklabels([])\n",
    "        for h in set(df['hostname']):\n",
    "            if 'mlab1.' + site in h:\n",
    "                ds = df[ (df['hostname'] == h) ]\n",
    "                axes[i, j].plot_date(dates.epoch2num(ds['ts']), ds['total_discards'], ls='-', ms=0, label=h[:11])\n",
    "        axes[i, j].set_ylim(1, 1000000)\n",
    "        axes[i, j].tick_params(axis='x', labelrotation=90)\n",
    "        axes[i, j].grid(color='#dddddd')\n",
    "        axes[i, j].legend(loc=4, fontsize='x-small')\n",
    "        axes[i, j].semilogy()\n",
    "        \n",
    "fig.subplots_adjust(hspace=0.3, wspace=0.4)\n",
    "fig.suptitle('Discards over time')\n"
   ]
  },
  {
   "cell_type": "code",
   "execution_count": 9,
   "metadata": {
    "collapsed": false
   },
   "outputs": [
    {
     "data": {
      "text/plain": [
       "86688"
      ]
     },
     "execution_count": 9,
     "metadata": {},
     "output_type": "execute_result"
    }
   ],
   "source": [
    "len(df['hostname'])"
   ]
  },
  {
   "cell_type": "code",
   "execution_count": 11,
   "metadata": {
    "collapsed": true
   },
   "outputs": [],
   "source": [
    "df = pd.read_csv('total_discards.csv')"
   ]
  },
  {
   "cell_type": "code",
   "execution_count": 12,
   "metadata": {
    "collapsed": false
   },
   "outputs": [
    {
     "data": {
      "text/plain": [
       "Text(0.5,0.98,'Ratio of discard / total packets')"
      ]
     },
     "execution_count": 12,
     "metadata": {},
     "output_type": "execute_result"
    },
    {
     "name": "stderr",
     "output_type": "stream",
     "text": [
      "/usr/local/google/home/soltesz/.local/lib/python2.7/site-packages/matplotlib/scale.py:114: RuntimeWarning: invalid value encountered in less_equal\n",
      "  out[a <= 0] = -1000\n"
     ]
    }
   ],
   "source": [
    "sites = [\n",
    "    ['dfw', 'lga', 'iad'],\n",
    "    ['sea', 'atl', 'den'],\n",
    "    ['mia', 'nuq', 'ord'],\n",
    "]\n",
    "#sites = [\n",
    "#    ['dfw02']\n",
    "#]\n",
    "\n",
    "fig, axes = plt.subplots(nrows=3, ncols=3)\n",
    "#fig, axes = plt.subplots(nrows=2, ncols=2)\n",
    "for i, site_row in enumerate(sites):\n",
    "    for j, site in enumerate(site_row):\n",
    "        axes[i, j].set_title(site)\n",
    "        if j != 0:\n",
    "            axes[i, j].set_yticklabels([])\n",
    "        if i != len(sites)-1:\n",
    "            axes[i, j].set_xticklabels([])\n",
    "        for h in set(df['hostname']):\n",
    "            if 'mlab1.' + site in h:\n",
    "                # -- ds_discards = df[ (df['hostname'] == h) & (df['metric'] == 'discards') ]\n",
    "                # ds_total = df[ (df['hostname'] == h) & (df['metric'] == 'octets') ]\n",
    "                ds = df['total_discards'][ df['hostname'] == h ] / df['total_packets'][df['hostname'] == h]\n",
    "                axes[i, j].plot_date(dates.epoch2num(df['ts'][df['hostname'] == h]), ds, ls='-', ms=0, label=h[:11])\n",
    "        axes[i, j].set_ylim(10**-6, 10**-3)\n",
    "        axes[i, j].tick_params(axis='x', labelrotation=90)\n",
    "#       axes[i, j].set_xticks(rotation='vertical')\n",
    "        axes[i, j].grid(color='#dddddd')\n",
    "        axes[i, j].legend(loc=4, fontsize='x-small')\n",
    "        axes[i, j].semilogy()\n",
    "        \n",
    "fig.subplots_adjust(hspace=0.3, wspace=0.4)\n",
    "fig.suptitle('Ratio of discard / total packets')"
   ]
  },
  {
   "cell_type": "code",
   "execution_count": null,
   "metadata": {
    "collapsed": true
   },
   "outputs": [],
   "source": []
  },
  {
   "cell_type": "code",
   "execution_count": 15,
   "metadata": {
    "collapsed": false
   },
   "outputs": [],
   "source": [
    "# cat sidestream.sql | bq query --format=csv --max_rows=1000000 --nouse_legacy_sql > sidestream-trial-6w.csv\n",
    "df = pd.read_csv('sidestream-trial-6w.csv')"
   ]
  },
  {
   "cell_type": "code",
   "execution_count": 16,
   "metadata": {
    "collapsed": false
   },
   "outputs": [
    {
     "name": "stdout",
     "output_type": "stream",
     "text": [
      "262916 901.2757078134047\n"
     ]
    },
    {
     "name": "stderr",
     "output_type": "stream",
     "text": [
      "/usr/local/google/home/soltesz/.local/lib/python2.7/site-packages/matplotlib/axes/_axes.py:6448: UserWarning: The 'normed' kwarg is deprecated, and has been replaced by the 'density' kwarg.\n",
      "  warnings.warn(\"The 'normed' kwarg is deprecated, and has been \"\n"
     ]
    },
    {
     "name": "stdout",
     "output_type": "stream",
     "text": [
      "[0.03767123 0.05950342 0.07719749 ... 0.99985731 0.99985731 1.        ] 7009\n"
     ]
    }
   ],
   "source": [
    "print len(df), max(df['rate_mbps'])\n",
    "\n",
    "hosts = [\n",
    "    ['mlab1.lga03', 'mlab1.lga04'],\n",
    "    ['mlab1.dfw02', 'mlab1.dfw03'],\n",
    "]\n",
    "\n",
    "fig, axes = plt.subplots(nrows=2, ncols=2)\n",
    "\n",
    "for i, host_row in enumerate(hosts):\n",
    "    for j, host in enumerate(host_row):\n",
    "        for period in ['0w', '1w', '2w']: # , '3w', '4w', '5w']:\n",
    "            ds = df[ (df['period'] == period) & (df['hostname'] == host) ]\n",
    "            n, bins, patches = axes[i, j].hist(ds['rate_mbps'], len(ds['rate_mbps']),\n",
    "                               histtype='step', normed=1, cumulative=True, label='cdf-' + period,\n",
    "                               ls='-')\n",
    "        # axes[i].set_aspect('equal')\n",
    "        axes[i, j].set_axisbelow(True)\n",
    "        axes[i, j].semilogx()\n",
    "        axes[i, j].legend(loc=2)\n",
    "        axes[i, j].grid(color='#dddddd')\n",
    "        axes[i, j].set_title(host)\n",
    "\n",
    "fig.suptitle('Sidestream Download Rate CDFs over three week period (0w is trial)')\n",
    "plt.show()\n",
    "print n, len(bins)"
   ]
  },
  {
   "cell_type": "code",
   "execution_count": null,
   "metadata": {
    "collapsed": true
   },
   "outputs": [],
   "source": []
  },
  {
   "cell_type": "code",
   "execution_count": 28,
   "metadata": {
    "collapsed": false
   },
   "outputs": [],
   "source": [
    "# cat daily_pct.sql| bq query --format=csv --max_rows=1000000 --nouse_legacy_sql > daily_pct.csv\n",
    "df = pd.read_csv('daily_pct.csv')"
   ]
  },
  {
   "cell_type": "code",
   "execution_count": 36,
   "metadata": {
    "collapsed": false
   },
   "outputs": [
    {
     "data": {
      "text/plain": [
       "Text(0.5,0.98,'Daily percentage of timebins with any discards')"
      ]
     },
     "execution_count": 36,
     "metadata": {},
     "output_type": "execute_result"
    }
   ],
   "source": [
    "#plt.plot_date(dates.epoch2num(df['ts']), df['total_discards'], ls='-', ms=0)\n",
    "#plt.tick_params(axis='x', labelrotation=90)\n",
    "#plt.title('dfw02 percent of daily timebins with any discards')\n",
    "#plt.show()\n",
    "\n",
    "sites = [\n",
    "    ['mlab1.dfw02', 'mlab1.lga03'],\n",
    "]\n",
    "\n",
    "fig, axes = plt.subplots(nrows=1, ncols=2)\n",
    "for i, hosts in enumerate(sites):\n",
    "    for j, host in enumerate(hosts): \n",
    "        ax = axes[j]\n",
    "        \n",
    "        ds = df[ df['hostname'] == host ]\n",
    "        ax.plot_date(dates.epoch2num(ds['ts']), ds['total_discards'], ls='-', ms=0, label=host)\n",
    "        \n",
    "        ax.set_title(host)\n",
    "        #ax.set_ylim(10**-6, 10**-3)\n",
    "        ax.tick_params(axis='x', labelrotation=90)\n",
    "        ax.grid(color='#dddddd')\n",
    "        ax.legend(loc=4, fontsize='x-small')\n",
    "        #ax.semilogy()\n",
    "        \n",
    "fig.subplots_adjust(hspace=0.3, wspace=0.4)\n",
    "fig.suptitle('Daily percentage of timebins with any discards')"
   ]
  },
  {
   "cell_type": "code",
   "execution_count": 42,
   "metadata": {
    "collapsed": true
   },
   "outputs": [],
   "source": [
    "# cat sidestream-aug1st.sql | bq query --format=csv --max_rows=1000000 --nouse_legacy_sql > sidestream-aug.csv\n",
    "df = pd.read_csv('sidestream-aug.csv')"
   ]
  },
  {
   "cell_type": "code",
   "execution_count": 44,
   "metadata": {
    "collapsed": false
   },
   "outputs": [
    {
     "name": "stdout",
     "output_type": "stream",
     "text": [
      "240746 880.9183945638188\n",
      "[0.00793568 0.03320455 0.04114023 ... 0.99989558 0.99989558 1.        ] 9578\n"
     ]
    }
   ],
   "source": [
    "print len(df), max(df['rate_mbps'])\n",
    "\n",
    "hosts = [\n",
    "    ['mlab1.dfw02', 'mlab1.lga03'],\n",
    "]\n",
    "\n",
    "fig, axes = plt.subplots(nrows=1, ncols=2)\n",
    "\n",
    "for i, host_row in enumerate(hosts):\n",
    "    for j, host in enumerate(host_row):\n",
    "        for period in set(df['period']):\n",
    "            ds = df[ (df['period'] == period) & (df['hostname'] == host) ]\n",
    "            ax = axes[j]\n",
    "            n, bins, patches = ax.hist(ds['rate_mbps'], len(ds['rate_mbps']),\n",
    "                               histtype='step', normed=1, cumulative=True, label='cdf-' + period,\n",
    "                               ls='-')\n",
    "        # axes[i].set_aspect('equal')\n",
    "        ax.set_xlim(1, 100)\n",
    "\n",
    "        ax.set_axisbelow(True)\n",
    "        #ax.semilogx()\n",
    "        ax.legend(loc=2)\n",
    "        ax.grid(color='#dddddd')\n",
    "        ax.set_title(host)\n",
    "\n",
    "fig.suptitle('Sidestream Download Rate CDFs Around August 5th')\n",
    "\n",
    "plt.show()\n",
    "print n, len(bins)"
   ]
  }
 ],
 "metadata": {
  "kernelspec": {
   "display_name": "Python 2",
   "language": "python",
   "name": "python2"
  },
  "language_info": {
   "codemirror_mode": {
    "name": "ipython",
    "version": 2
   },
   "file_extension": ".py",
   "mimetype": "text/x-python",
   "name": "python",
   "nbconvert_exporter": "python",
   "pygments_lexer": "ipython2",
   "version": "2.7.13"
  }
 },
 "nbformat": 4,
 "nbformat_minor": 2
}
